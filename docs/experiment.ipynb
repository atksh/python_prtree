{
 "cells": [
  {
   "cell_type": "code",
   "execution_count": 1,
   "metadata": {},
   "outputs": [],
   "source": [
    "from python_prtree import PRTree\n",
    "import numpy as np\n",
    "import time\n",
    "import matplotlib.pyplot as plt\n",
    "plt.rcParams[\"font.size\"] = 18\n",
    "import random\n",
    "import gc\n",
    "%matplotlib inline"
   ]
  },
  {
   "cell_type": "code",
   "execution_count": 2,
   "metadata": {},
   "outputs": [],
   "source": [
    "def f(N):\n",
    "    s = time.time()\n",
    "    idx = np.arange(N)\n",
    "    x = np.random.rand(N, 4)\n",
    "    x[:, 1] = x[:, 0] + x[:, 1] / np.sqrt(N) / 100\n",
    "    x[:, 3] = x[:, 2] + x[:, 3] / np.sqrt(N) / 100\n",
    "    prtree = PRTree(idx, x)\n",
    "    t = time.time()\n",
    "    x = np.random.rand(100_000, 4)\n",
    "    x[:, 1] = x[:, 0] + x[:, 1] / np.sqrt(N) / 100\n",
    "    x[:, 3] = x[:, 2] + x[:, 3] / np.sqrt(N) / 100\n",
    "    t2 = time.time()\n",
    "    out = prtree.batch_query(x)\n",
    "    u = time.time()\n",
    "    out = [prtree.query(y) for y in x]\n",
    "    u1 = time.time()\n",
    "    del_list = random.sample(idx.tolist(), k=min(N, 100_000))\n",
    "    u2 = time.time()\n",
    "    for k in del_list:\n",
    "        prtree.erase(k)\n",
    "    v = time.time()\n",
    "    \n",
    "    x = np.random.rand(min(N, 100_000), 4)\n",
    "    x[:, 1] = x[:, 0] + x[:, 1] / np.sqrt(N) / 100\n",
    "    x[:, 3] = x[:, 2] + x[:, 3] / np.sqrt(N) / 100\n",
    "    v2 = time.time()\n",
    "    for i, k in enumerate(del_list):\n",
    "        prtree.insert(k, x[i])\n",
    "    return t - s, u - t2, (u1 - u), (v - u1), (time.time() - v2)"
   ]
  },
  {
   "cell_type": "code",
   "execution_count": 3,
   "metadata": {},
   "outputs": [
    {
     "data": {
      "text/plain": [
       "(0.933234691619873,\n",
       " 0.06494784355163574,\n",
       " 0.5834496021270752,\n",
       " 0.566103458404541,\n",
       " 0.735116720199585)"
      ]
     },
     "execution_count": 3,
     "metadata": {},
     "output_type": "execute_result"
    }
   ],
   "source": [
    "f(1_000_000)"
   ]
  },
  {
   "cell_type": "code",
   "execution_count": null,
   "metadata": {
    "scrolled": false
   },
   "outputs": [
    {
     "name": "stdout",
     "output_type": "stream",
     "text": [
      "188924888, 125949925, 83966617, 55977744, 37318496, 24878997, "
     ]
    }
   ],
   "source": [
    "x = []\n",
    "y1 = []\n",
    "y2 = []\n",
    "y22 = []\n",
    "y3 = []\n",
    "y4 = []\n",
    "for i in list(range(7, 25))[::-1]:\n",
    "    n = int(1.5 ** (23 + i))\n",
    "    print(n, end=', ')\n",
    "    x.append(n)\n",
    "    s, t, t2, u,v = f(n)\n",
    "    y1.append(s)\n",
    "    y2.append(t)\n",
    "    y22.append(t2)\n",
    "    y3.append(u)\n",
    "    y4.append(v)\n",
    "    gc.collect()"
   ]
  },
  {
   "cell_type": "code",
   "execution_count": null,
   "metadata": {},
   "outputs": [],
   "source": [
    "plt.figure(figsize=(8, 4))\n",
    "plt.plot(x, y1)\n",
    "plt.xscale('log')\n",
    "plt.xlabel('#rectangles constructed with initial PRTree')\n",
    "plt.ylabel('time[sec]')\n",
    "plt.title('construction time')\n",
    "plt.savefig('./images/fig1.png')"
   ]
  },
  {
   "cell_type": "code",
   "execution_count": null,
   "metadata": {},
   "outputs": [],
   "source": [
    "plt.figure(figsize=(8, 4))\n",
    "plt.plot(x, y2, label='batch_query')\n",
    "plt.plot(x, y22, label='query')\n",
    "plt.xscale('log')\n",
    "plt.xlabel('#rectangles constructed with initial PRTree')\n",
    "plt.legend()\n",
    "plt.ylabel('time[sec]')\n",
    "plt.title('total time of 100,000 queries')\n",
    "plt.savefig('./images/fig2.png')"
   ]
  },
  {
   "cell_type": "code",
   "execution_count": null,
   "metadata": {},
   "outputs": [],
   "source": [
    "plt.figure(figsize=(8, 4))\n",
    "plt.plot(x, y3, label='delete')\n",
    "plt.plot(x, y4, label='insert')\n",
    "plt.xscale('log')\n",
    "plt.legend()\n",
    "plt.xlabel('#rectangles constructed with initial PRTree')\n",
    "plt.ylabel('time[sec]')\n",
    "plt.title('total time of 100,000 delete/insert events')\n",
    "plt.savefig('./images/fig3.png')"
   ]
  },
  {
   "cell_type": "code",
   "execution_count": null,
   "metadata": {},
   "outputs": [],
   "source": []
  }
 ],
 "metadata": {
  "kernelspec": {
   "display_name": "Python 3",
   "language": "python",
   "name": "python3"
  },
  "language_info": {
   "codemirror_mode": {
    "name": "ipython",
    "version": 3
   },
   "file_extension": ".py",
   "mimetype": "text/x-python",
   "name": "python",
   "nbconvert_exporter": "python",
   "pygments_lexer": "ipython3",
   "version": "3.7.7"
  }
 },
 "nbformat": 4,
 "nbformat_minor": 4
}
