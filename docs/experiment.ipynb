{
 "cells": [
  {
   "cell_type": "code",
   "execution_count": 1,
   "metadata": {},
   "outputs": [],
   "source": [
    "from python_prtree import PRTree2D, PRTree3D\n",
    "import numpy as np\n",
    "import time\n",
    "import matplotlib.pyplot as plt\n",
    "plt.rcParams[\"font.size\"] = 18\n",
    "import random\n",
    "import gc\n",
    "np.random.seed(42)\n",
    "%matplotlib inline"
   ]
  },
  {
   "cell_type": "code",
   "execution_count": 2,
   "metadata": {},
   "outputs": [],
   "source": [
    "def f(N, PRTree, dim):\n",
    "    idx = np.arange(N)\n",
    "    x = np.random.rand(N, 2*dim).astype(np.float32)\n",
    "    print(x.nbytes // 1024 // 1024) # mb\n",
    "    for i in range(dim):\n",
    "        x[:, i+dim] = x[:, i] + x[:, i+dim] / np.sqrt(N) / 100\n",
    "    s = time.time()\n",
    "    prtree = PRTree(idx, x)\n",
    "    t = time.time()\n",
    "    x = np.random.rand(100_000, 2*dim).astype(np.float32)\n",
    "    for i in range(dim):\n",
    "        x[:, i+dim] = x[:, i] + x[:, i+dim] / np.sqrt(N) / 100\n",
    "    t2 = time.time()\n",
    "    out = prtree.batch_query(x)\n",
    "    u = time.time()\n",
    "    out = [prtree.query(y) for y in x]\n",
    "    u1 = time.time()\n",
    "    del_list = random.sample(idx.tolist(), k=min(N, 100_000))\n",
    "    u2 = time.time()\n",
    "    for k in del_list:\n",
    "        prtree.erase(k)\n",
    "    v = time.time()\n",
    "    \n",
    "    x = np.random.rand(min(N, 100_000), 2*dim).astype(np.float32)\n",
    "    for i in range(dim):\n",
    "        x[:, i+dim] = x[:, i] + x[:, i+dim] / np.sqrt(N) / 100\n",
    "    v2 = time.time()\n",
    "    for i, k in enumerate(del_list):\n",
    "        prtree.insert(k, x[i])\n",
    "    return t - s, u - t2, (u1 - u), (v - u2), (time.time() - v2)"
   ]
  },
  {
   "cell_type": "code",
   "execution_count": 3,
   "metadata": {
    "scrolled": false
   },
   "outputs": [
    {
     "name": "stdout",
     "output_type": "stream",
     "text": [
      "37318496, 569\n",
      "24878997, 379\n",
      "16585998, 253\n",
      "11057332, 168\n",
      "7371554, 112\n",
      "4914369, 74\n",
      "3276246, 49\n",
      "2184164, 33\n",
      "1456109, 22\n",
      "970739, 14\n",
      "647159, 9\n",
      "431439, 6\n",
      "287626, 4\n",
      "191751, 2\n",
      "127834, 1\n",
      "37318496, 854\n",
      "24878997, 569\n",
      "16585998, 379\n",
      "11057332, 253\n",
      "7371554, 168\n",
      "4914369, 112\n",
      "3276246, 74\n",
      "2184164, 49\n",
      "1456109, 33\n",
      "970739, 22\n",
      "647159, 14\n",
      "431439, 9\n",
      "287626, 6\n",
      "191751, 4\n",
      "127834, 2\n"
     ]
    },
    {
     "data": {
      "text/plain": [
       "<Figure size 576x288 with 0 Axes>"
      ]
     },
     "metadata": {},
     "output_type": "display_data"
    },
    {
     "data": {
      "text/plain": [
       "<Figure size 576x288 with 0 Axes>"
      ]
     },
     "metadata": {},
     "output_type": "display_data"
    },
    {
     "data": {
      "text/plain": [
       "<Figure size 576x288 with 0 Axes>"
      ]
     },
     "metadata": {},
     "output_type": "display_data"
    },
    {
     "data": {
      "text/plain": [
       "<Figure size 576x288 with 0 Axes>"
      ]
     },
     "metadata": {},
     "output_type": "display_data"
    },
    {
     "data": {
      "text/plain": [
       "<Figure size 576x288 with 0 Axes>"
      ]
     },
     "metadata": {},
     "output_type": "display_data"
    },
    {
     "data": {
      "text/plain": [
       "<Figure size 576x288 with 0 Axes>"
      ]
     },
     "metadata": {},
     "output_type": "display_data"
    }
   ],
   "source": [
    "for PRTree, name, dim in zip([PRTree2D, PRTree3D], ['2d', '3d'], [2, 3]):\n",
    "    x = []\n",
    "    y1 = []\n",
    "    y2 = []\n",
    "    y22 = []\n",
    "    y3 = []\n",
    "    y4 = []\n",
    "    for i in list(range(29, 44))[::-1]:\n",
    "        n = int(1.5 ** i)\n",
    "        print(n, end=', ')\n",
    "        x.append(n)\n",
    "        s, t, t2, u,v = f(n, PRTree, dim)\n",
    "        y1.append(s)\n",
    "        y2.append(t)\n",
    "        y22.append(t2)\n",
    "        y3.append(u)\n",
    "        y4.append(v)\n",
    "        gc.collect()\n",
    "    plt.figure(figsize=(8, 4))\n",
    "    plt.plot(x, y1)\n",
    "    plt.xscale('log')\n",
    "    plt.xlabel('#rectangles constructed with initial PRTree')\n",
    "    plt.ylabel('time[sec]')\n",
    "    plt.title(f'[{name}] construction time')\n",
    "    plt.savefig(f'./images/{name}_fig1.png')\n",
    "    plt.clf()\n",
    "    \n",
    "    plt.figure(figsize=(8, 4))\n",
    "    plt.plot(x, y2, label='batch_query')\n",
    "    plt.plot(x, y22, label='query')\n",
    "    plt.xscale('log')\n",
    "    plt.xlabel('#rectangles constructed with initial PRTree')\n",
    "    plt.legend()\n",
    "    plt.ylabel('time[sec]')\n",
    "    plt.title(f'[{name}] total time of 100,000 queries')\n",
    "    plt.savefig(f'./images/{name}_fig2.png')\n",
    "    plt.clf()\n",
    "    \n",
    "    plt.figure(figsize=(8, 4))\n",
    "    plt.plot(x, y3, label='erase')\n",
    "    plt.plot(x, y4, label='insert')\n",
    "    plt.xscale('log')\n",
    "    plt.legend()\n",
    "    plt.xlabel('#rectangles constructed with initial PRTree')\n",
    "    plt.ylabel('time[sec]')\n",
    "    plt.title(f'[{name}] total time of 100,000 delete/insert events')\n",
    "    plt.savefig(f'./images/{name}_fig3.png')\n",
    "    plt.clf();"
   ]
  },
  {
   "cell_type": "code",
   "execution_count": null,
   "metadata": {},
   "outputs": [],
   "source": []
  }
 ],
 "metadata": {
  "kernelspec": {
   "display_name": "Python 3 (ipykernel)",
   "language": "python",
   "name": "python3"
  },
  "language_info": {
   "codemirror_mode": {
    "name": "ipython",
    "version": 3
   },
   "file_extension": ".py",
   "mimetype": "text/x-python",
   "name": "python",
   "nbconvert_exporter": "python",
   "pygments_lexer": "ipython3",
   "version": "3.9.5"
  }
 },
 "nbformat": 4,
 "nbformat_minor": 4
}
